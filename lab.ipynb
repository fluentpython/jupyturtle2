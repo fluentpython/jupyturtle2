{
 "cells": [
  {
   "cell_type": "markdown",
   "id": "69843690-677d-418f-a170-731803fe3cd3",
   "metadata": {},
   "source": [
    "# Lab notebook: turtle driving"
   ]
  },
  {
   "cell_type": "markdown",
   "id": "9bcee80e",
   "metadata": {},
   "source": [
    "## Imperative API\n",
    "\n",
    "The `jupyturtle` module provides several top-level functions that work as turtle commands.\n",
    "\n",
    "For example, `fd(x)` makes the turtle move forward by `x` units, leaving a trail if the turtle's pen is down.\n",
    "\n",
    "Invoking a turtle command like `fd(50)` creates the `jupyturtle.main_turtle`, if it was not created before.\n",
    "It is an instance of `Turtle` which includes a `Drawing` holding SVG which is rendered by the browser.\n",
    "\n",
    "Subsequent commands will update the same drawing. This makes more sense when you run the notebook cell by cell."
   ]
  },
  {
   "cell_type": "code",
   "execution_count": 1,
   "id": "28289186",
   "metadata": {},
   "outputs": [
    {
     "data": {
      "application/vnd.jupyter.widget-view+json": {
       "model_id": "89b5e4f93ec44a89b8777252039ab78d",
       "version_major": 2,
       "version_minor": 0
      },
      "text/plain": [
       "MultiCanvas(height=200, sync_image_data=True, width=400)"
      ]
     },
     "metadata": {},
     "output_type": "display_data"
    }
   ],
   "source": [
    "from jupyturtle import *\n",
    "fd(50)"
   ]
  },
  {
   "cell_type": "code",
   "execution_count": 2,
   "id": "5d7f9eee",
   "metadata": {},
   "outputs": [
    {
     "name": "stdout",
     "output_type": "stream",
     "text": [
      "Help on function forward in module jupyturtle:\n",
      "\n",
      "forward(*args)\n",
      "    Move the turtle forward by units, drawing if the pen is down.\n",
      "\n"
     ]
    }
   ],
   "source": [
    "lt(120)\n",
    "fd(50)\n",
    "help(fd)"
   ]
  },
  {
   "cell_type": "markdown",
   "id": "b200660b",
   "metadata": {},
   "source": [
    "Alternatively, the imperative API should create a new drawing with each cell.\n",
    "\n",
    "Or maybe it could create a drawing building on the previous drawing. This could be useful to convert the notebook to print format, so each cell would build on the work of previous cells.\n",
    "\n",
    "What do you think?"
   ]
  },
  {
   "cell_type": "markdown",
   "id": "69ceebde",
   "metadata": {},
   "source": [
    "## Object-oriented API\n",
    "\n",
    "Here the user explicitly builds a `Turtle` instance `t`, and drives it by calling its methods.\n",
    "\n",
    "Creating a `Turtle` also creates a `Drawing` to show it, and the drawing is displayed below the current cell."
   ]
  },
  {
   "cell_type": "code",
   "execution_count": 3,
   "id": "0922f85e-2606-4fdb-a896-0e3fce6ae2a5",
   "metadata": {},
   "outputs": [
    {
     "data": {
      "application/vnd.jupyter.widget-view+json": {
       "model_id": "2c3c75d801c54de1a9d154304885f8ed",
       "version_major": 2,
       "version_minor": 0
      },
      "text/plain": [
       "MultiCanvas(height=200, sync_image_data=True, width=400)"
      ]
     },
     "metadata": {},
     "output_type": "display_data"
    }
   ],
   "source": [
    "import jupyturtle\n",
    "\n",
    "t = jupyturtle.Turtle(delay=1)"
   ]
  },
  {
   "cell_type": "markdown",
   "id": "997fee57",
   "metadata": {},
   "source": [
    "Method calls on a turtle intance will update its original drawing. "
   ]
  },
  {
   "cell_type": "code",
   "execution_count": 4,
   "id": "bc7a65da",
   "metadata": {},
   "outputs": [],
   "source": [
    "t.forward(50)\n",
    "t.left(120)\n",
    "t.forward(50)\n",
    "t.left(120)"
   ]
  },
  {
   "cell_type": "code",
   "execution_count": 5,
   "id": "d71d1097",
   "metadata": {},
   "outputs": [],
   "source": [
    "t.forward(50)\n",
    "t.left(120)\n"
   ]
  },
  {
   "cell_type": "code",
   "execution_count": null,
   "id": "6e842016-7bf1-4a5a-8b09-00eeb4fd29e5",
   "metadata": {},
   "outputs": [],
   "source": []
  }
 ],
 "metadata": {
  "kernelspec": {
   "display_name": "Python 3 (ipykernel)",
   "language": "python",
   "name": "python3"
  },
  "language_info": {
   "codemirror_mode": {
    "name": "ipython",
    "version": 3
   },
   "file_extension": ".py",
   "mimetype": "text/x-python",
   "name": "python",
   "nbconvert_exporter": "python",
   "pygments_lexer": "ipython3",
   "version": "3.12.2"
  }
 },
 "nbformat": 4,
 "nbformat_minor": 5
}
